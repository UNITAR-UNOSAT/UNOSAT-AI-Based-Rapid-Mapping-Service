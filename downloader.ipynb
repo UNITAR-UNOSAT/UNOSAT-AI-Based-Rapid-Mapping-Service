{
 "cells": [
  {
   "cell_type": "code",
   "execution_count": null,
   "id": "75018e8f-6906-462f-be14-a00b631b045b",
   "metadata": {},
   "outputs": [],
   "source": [
    "import asf_search as asf\n",
    "from os import listdir"
   ]
  },
  {
   "cell_type": "code",
   "execution_count": null,
   "id": "53375a16-0809-49e2-98c3-a109cae8f726",
   "metadata": {},
   "outputs": [],
   "source": [
    "granule_list = [\n",
    "    'S1B_IW_GRDH_1SDV_20190822T151551_20190822T151616_017700_0214D2_6084',\n",
    "    'S1B_IW_GRDH_1SDV_20190810T151550_20190810T151615_017525_020F5A_2F74',\n",
    "    'S1B_IW_GRDH_1SDV_20190729T151549_20190729T151614_017350_020A0A_C3E2',\n",
    "    'S1B_IW_GRDH_1SDV_20190717T151548_20190717T151613_017175_0204EA_4181',\n",
    "    'S1B_IW_GRDH_1SDV_20190705T151548_20190705T151613_017000_01FFC4_24EC',\n",
    "    'S1B_IW_GRDH_1SDV_20190623T151547_20190623T151612_016825_01FA95_14B9',\n",
    "    'S1B_IW_GRDH_1SDV_20190611T151546_20190611T151611_016650_01F566_D7CE',\n",
    "    'S1B_IW_GRDH_1SDV_20190530T151546_20190530T151611_016475_01F02E_BF97',\n",
    "    'S1B_IW_GRDH_1SDV_20190518T151545_20190518T151610_016300_01EAD8_9308',\n",
    "    'S1B_IW_GRDH_1SDV_20190506T151544_20190506T151609_016125_01E56C_1D67'\n",
    "]"
   ]
  },
  {
   "cell_type": "code",
   "execution_count": null,
   "id": "c2ec5481-5469-4597-a5b4-4c257bcf39a6",
   "metadata": {},
   "outputs": [],
   "source": [
    "from pathlib import Path\n",
    "dirs = ['data/downloads']\n",
    "for d in dirs:\n",
    "    Path(d).mkdir(exist_ok=True)"
   ]
  },
  {
   "cell_type": "code",
   "execution_count": null,
   "id": "a7143b1c-7164-41b7-8f4a-4aa0c841ab3d",
   "metadata": {},
   "outputs": [],
   "source": [
    "import getpass\n",
    "username = input('Username:')\n",
    "password = getpass.getpass('Password:')\n",
    "\n",
    "try:\n",
    "    user_pass_session = asf.ASFSession().auth_with_creds(username, password)\n",
    "except asf.ASFAuthenticationError as e:\n",
    "    print(f'Auth failed: {e}')\n",
    "else:\n",
    "    print('Success!')"
   ]
  },
  {
   "cell_type": "code",
   "execution_count": null,
   "id": "3ba9f4b5-6a3c-47a9-bb14-80922ba68459",
   "metadata": {},
   "outputs": [],
   "source": [
    "results = asf.granule_search(granule_list)\n",
    "print(results)"
   ]
  },
  {
   "cell_type": "code",
   "execution_count": null,
   "id": "78754eaa-a2be-4ea0-a43d-3bfcf4d410ef",
   "metadata": {},
   "outputs": [],
   "source": [
    "results.download(path='./data/downloads', session=user_pass_session, processes=50)\n",
    "listdir('./data/downloads')"
   ]
  }
 ],
 "metadata": {
  "kernelspec": {
   "display_name": "Python 3 (ipykernel)",
   "language": "python",
   "name": "python3"
  },
  "language_info": {
   "codemirror_mode": {
    "name": "ipython",
    "version": 3
   },
   "file_extension": ".py",
   "mimetype": "text/x-python",
   "name": "python",
   "nbconvert_exporter": "python",
   "pygments_lexer": "ipython3",
   "version": "3.11.3"
  }
 },
 "nbformat": 4,
 "nbformat_minor": 5
}
